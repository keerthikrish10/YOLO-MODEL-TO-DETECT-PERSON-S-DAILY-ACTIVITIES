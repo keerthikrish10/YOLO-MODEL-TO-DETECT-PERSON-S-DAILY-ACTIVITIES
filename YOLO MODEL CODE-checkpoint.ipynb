{
 "cells": [
  {
   "cell_type": "markdown",
   "id": "0b2b8c11",
   "metadata": {},
   "source": [
    "PROBLEM STATEMENT:\n",
    "\n",
    "The aim is to create a YOLO  model which identifies various human activities like:\n",
    "1) sitting in chair \n",
    "2) flapping\n",
    "3) running"
   ]
  },
  {
   "cell_type": "code",
   "execution_count": 5,
   "id": "089eb49e",
   "metadata": {},
   "outputs": [
    {
     "name": "stdout",
     "output_type": "stream",
     "text": [
      "Requirement already satisfied: pip in c:\\users\\keerthi krishana\\.conda\\envs\\tf\\lib\\site-packages (23.1.2)\n",
      "Collecting pip\n",
      "  Downloading pip-23.3.1-py3-none-any.whl (2.1 MB)\n",
      "                                              0.0/2.1 MB ? eta -:--:--\n",
      "                                              0.0/2.1 MB ? eta -:--:--\n",
      "                                              0.0/2.1 MB ? eta -:--:--\n",
      "                                              0.0/2.1 MB 660.6 kB/s eta 0:00:04\n",
      "     --                                       0.1/2.1 MB 939.4 kB/s eta 0:00:03\n",
      "     ----                                     0.2/2.1 MB 1.7 MB/s eta 0:00:02\n",
      "     -------                                  0.4/2.1 MB 2.0 MB/s eta 0:00:01\n",
      "     ------------                             0.7/2.1 MB 2.7 MB/s eta 0:00:01\n",
      "     ---------------------                    1.1/2.1 MB 3.8 MB/s eta 0:00:01\n",
      "     -----------------------------            1.5/2.1 MB 4.4 MB/s eta 0:00:01\n",
      "     --------------------------------------   2.0/2.1 MB 5.2 MB/s eta 0:00:01\n",
      "     ---------------------------------------- 2.1/2.1 MB 5.2 MB/s eta 0:00:00\n",
      "Installing collected packages: pip\n",
      "  Attempting uninstall: pip\n",
      "    Found existing installation: pip 23.1.2\n",
      "    Uninstalling pip-23.1.2:\n",
      "      Successfully uninstalled pip-23.1.2\n",
      "Successfully installed pip-23.3.1\n",
      "Note: you may need to restart the kernel to use updated packages.\n"
     ]
    },
    {
     "name": "stderr",
     "output_type": "stream",
     "text": [
      "WARNING: Ignoring invalid distribution -rotobuf (c:\\users\\keerthi krishana\\.conda\\envs\\tf\\lib\\site-packages)\n",
      "WARNING: Ignoring invalid distribution -rotobuf (c:\\users\\keerthi krishana\\.conda\\envs\\tf\\lib\\site-packages)\n"
     ]
    }
   ],
   "source": [
    "pip install --upgrade pip"
   ]
  },
  {
   "cell_type": "code",
   "execution_count": 2,
   "id": "ad38ca09",
   "metadata": {},
   "outputs": [
    {
     "name": "stdout",
     "output_type": "stream",
     "text": [
      "Requirement already satisfied: tensorflow in c:\\users\\keerthi krishana\\.conda\\envs\\tf\\lib\\site-packages (2.10.0)\n",
      "Requirement already satisfied: absl-py>=1.0.0 in c:\\users\\keerthi krishana\\.conda\\envs\\tf\\lib\\site-packages (from tensorflow) (1.3.0)\n",
      "Requirement already satisfied: astunparse>=1.6.0 in c:\\users\\keerthi krishana\\.conda\\envs\\tf\\lib\\site-packages (from tensorflow) (1.6.3)\n",
      "Requirement already satisfied: flatbuffers>=2.0 in c:\\users\\keerthi krishana\\.conda\\envs\\tf\\lib\\site-packages (from tensorflow) (2.0)\n",
      "Requirement already satisfied: gast<=0.4.0,>=0.2.1 in c:\\users\\keerthi krishana\\.conda\\envs\\tf\\lib\\site-packages (from tensorflow) (0.4.0)\n",
      "Requirement already satisfied: google-pasta>=0.1.1 in c:\\users\\keerthi krishana\\.conda\\envs\\tf\\lib\\site-packages (from tensorflow) (0.2.0)\n",
      "Requirement already satisfied: h5py>=2.9.0 in c:\\users\\keerthi krishana\\.conda\\envs\\tf\\lib\\site-packages (from tensorflow) (3.7.0)\n",
      "Requirement already satisfied: keras-preprocessing>=1.1.1 in c:\\users\\keerthi krishana\\.conda\\envs\\tf\\lib\\site-packages (from tensorflow) (1.1.2)\n",
      "Requirement already satisfied: libclang>=13.0.0 in c:\\users\\keerthi krishana\\.conda\\envs\\tf\\lib\\site-packages (from tensorflow) (16.0.6)\n",
      "Requirement already satisfied: numpy>=1.20 in c:\\users\\keerthi krishana\\.conda\\envs\\tf\\lib\\site-packages (from tensorflow) (1.24.3)\n",
      "Requirement already satisfied: opt-einsum>=2.3.2 in c:\\users\\keerthi krishana\\.conda\\envs\\tf\\lib\\site-packages (from tensorflow) (3.3.0)\n",
      "Requirement already satisfied: packaging in c:\\users\\keerthi krishana\\.conda\\envs\\tf\\lib\\site-packages (from tensorflow) (23.0)\n",
      "Requirement already satisfied: protobuf<3.20,>=3.9.2 in c:\\users\\keerthi krishana\\.conda\\envs\\tf\\lib\\site-packages (from tensorflow) (3.19.6)\n",
      "Requirement already satisfied: setuptools in c:\\users\\keerthi krishana\\.conda\\envs\\tf\\lib\\site-packages (from tensorflow) (66.0.0)\n",
      "Requirement already satisfied: six>=1.12.0 in c:\\users\\keerthi krishana\\.conda\\envs\\tf\\lib\\site-packages (from tensorflow) (1.16.0)\n",
      "Requirement already satisfied: termcolor>=1.1.0 in c:\\users\\keerthi krishana\\.conda\\envs\\tf\\lib\\site-packages (from tensorflow) (2.1.0)\n",
      "Requirement already satisfied: typing-extensions>=3.6.6 in c:\\users\\keerthi krishana\\.conda\\envs\\tf\\lib\\site-packages (from tensorflow) (4.5.0)\n",
      "Requirement already satisfied: wrapt>=1.11.0 in c:\\users\\keerthi krishana\\.conda\\envs\\tf\\lib\\site-packages (from tensorflow) (1.14.1)\n",
      "Requirement already satisfied: tensorflow-io-gcs-filesystem>=0.23.1 in c:\\users\\keerthi krishana\\.conda\\envs\\tf\\lib\\site-packages (from tensorflow) (0.31.0)\n",
      "Requirement already satisfied: grpcio<2.0,>=1.24.3 in c:\\users\\keerthi krishana\\.conda\\envs\\tf\\lib\\site-packages (from tensorflow) (1.48.2)\n",
      "Requirement already satisfied: tensorboard<2.11,>=2.10 in c:\\users\\keerthi krishana\\.conda\\envs\\tf\\lib\\site-packages (from tensorflow) (2.10.0)\n",
      "Requirement already satisfied: tensorflow-estimator<2.11,>=2.10.0 in c:\\users\\keerthi krishana\\.conda\\envs\\tf\\lib\\site-packages (from tensorflow) (2.10.0)\n",
      "Requirement already satisfied: keras<2.11,>=2.10.0 in c:\\users\\keerthi krishana\\.conda\\envs\\tf\\lib\\site-packages (from tensorflow) (2.10.0)\n",
      "Requirement already satisfied: wheel<1.0,>=0.23.0 in c:\\users\\keerthi krishana\\.conda\\envs\\tf\\lib\\site-packages (from astunparse>=1.6.0->tensorflow) (0.38.4)\n",
      "Requirement already satisfied: google-auth<3,>=1.6.3 in c:\\users\\keerthi krishana\\.conda\\envs\\tf\\lib\\site-packages (from tensorboard<2.11,>=2.10->tensorflow) (2.6.0)\n",
      "Requirement already satisfied: google-auth-oauthlib<0.5,>=0.4.1 in c:\\users\\keerthi krishana\\.conda\\envs\\tf\\lib\\site-packages (from tensorboard<2.11,>=2.10->tensorflow) (0.4.4)\n",
      "Requirement already satisfied: markdown>=2.6.8 in c:\\users\\keerthi krishana\\.conda\\envs\\tf\\lib\\site-packages (from tensorboard<2.11,>=2.10->tensorflow) (3.4.1)\n",
      "Requirement already satisfied: requests<3,>=2.21.0 in c:\\users\\keerthi krishana\\.conda\\envs\\tf\\lib\\site-packages (from tensorboard<2.11,>=2.10->tensorflow) (2.29.0)\n",
      "Requirement already satisfied: tensorboard-data-server<0.7.0,>=0.6.0 in c:\\users\\keerthi krishana\\.conda\\envs\\tf\\lib\\site-packages (from tensorboard<2.11,>=2.10->tensorflow) (0.6.1)\n",
      "Requirement already satisfied: tensorboard-plugin-wit>=1.6.0 in c:\\users\\keerthi krishana\\.conda\\envs\\tf\\lib\\site-packages (from tensorboard<2.11,>=2.10->tensorflow) (1.8.1)\n",
      "Requirement already satisfied: werkzeug>=1.0.1 in c:\\users\\keerthi krishana\\.conda\\envs\\tf\\lib\\site-packages (from tensorboard<2.11,>=2.10->tensorflow) (2.2.3)\n",
      "Requirement already satisfied: cachetools<6.0,>=2.0.0 in c:\\users\\keerthi krishana\\.conda\\envs\\tf\\lib\\site-packages (from google-auth<3,>=1.6.3->tensorboard<2.11,>=2.10->tensorflow) (4.2.2)\n",
      "Requirement already satisfied: pyasn1-modules>=0.2.1 in c:\\users\\keerthi krishana\\.conda\\envs\\tf\\lib\\site-packages (from google-auth<3,>=1.6.3->tensorboard<2.11,>=2.10->tensorflow) (0.2.8)\n",
      "Requirement already satisfied: rsa<5,>=3.1.4 in c:\\users\\keerthi krishana\\.conda\\envs\\tf\\lib\\site-packages (from google-auth<3,>=1.6.3->tensorboard<2.11,>=2.10->tensorflow) (4.7.2)\n",
      "Requirement already satisfied: requests-oauthlib>=0.7.0 in c:\\users\\keerthi krishana\\.conda\\envs\\tf\\lib\\site-packages (from google-auth-oauthlib<0.5,>=0.4.1->tensorboard<2.11,>=2.10->tensorflow) (1.3.0)\n",
      "Requirement already satisfied: charset-normalizer<4,>=2 in c:\\users\\keerthi krishana\\.conda\\envs\\tf\\lib\\site-packages (from requests<3,>=2.21.0->tensorboard<2.11,>=2.10->tensorflow) (2.0.4)\n",
      "Requirement already satisfied: idna<4,>=2.5 in c:\\users\\keerthi krishana\\.conda\\envs\\tf\\lib\\site-packages (from requests<3,>=2.21.0->tensorboard<2.11,>=2.10->tensorflow) (3.4)\n",
      "Requirement already satisfied: urllib3<1.27,>=1.21.1 in c:\\users\\keerthi krishana\\.conda\\envs\\tf\\lib\\site-packages (from requests<3,>=2.21.0->tensorboard<2.11,>=2.10->tensorflow) (1.26.15)\n",
      "Requirement already satisfied: certifi>=2017.4.17 in c:\\users\\keerthi krishana\\.conda\\envs\\tf\\lib\\site-packages (from requests<3,>=2.21.0->tensorboard<2.11,>=2.10->tensorflow) (2023.5.7)\n",
      "Requirement already satisfied: MarkupSafe>=2.1.1 in c:\\users\\keerthi krishana\\.conda\\envs\\tf\\lib\\site-packages (from werkzeug>=1.0.1->tensorboard<2.11,>=2.10->tensorflow) (2.1.1)\n",
      "Requirement already satisfied: pyasn1<0.5.0,>=0.4.6 in c:\\users\\keerthi krishana\\.conda\\envs\\tf\\lib\\site-packages (from pyasn1-modules>=0.2.1->google-auth<3,>=1.6.3->tensorboard<2.11,>=2.10->tensorflow) (0.4.8)\n",
      "Requirement already satisfied: oauthlib>=3.0.0 in c:\\users\\keerthi krishana\\.conda\\envs\\tf\\lib\\site-packages (from requests-oauthlib>=0.7.0->google-auth-oauthlib<0.5,>=0.4.1->tensorboard<2.11,>=2.10->tensorflow) (3.2.2)\n",
      "Note: you may need to restart the kernel to use updated packages.\n"
     ]
    },
    {
     "name": "stderr",
     "output_type": "stream",
     "text": [
      "WARNING: Ignoring invalid distribution -rotobuf (c:\\users\\keerthi krishana\\.conda\\envs\\tf\\lib\\site-packages)\n",
      "WARNING: Ignoring invalid distribution -rotobuf (c:\\users\\keerthi krishana\\.conda\\envs\\tf\\lib\\site-packages)\n"
     ]
    }
   ],
   "source": [
    "pip install tensorflow\n"
   ]
  },
  {
   "cell_type": "code",
   "execution_count": 3,
   "id": "f297b9ae",
   "metadata": {},
   "outputs": [
    {
     "name": "stdout",
     "output_type": "stream",
     "text": [
      "Collecting yolov3\n",
      "  Using cached yolov3-1.7-py3-none-any.whl (1.5 kB)\n",
      "Collecting numpy==1.14.4 (from yolov3)\n",
      "  Using cached numpy-1.14.4.zip (4.9 MB)\n",
      "  Preparing metadata (setup.py): started\n",
      "  Preparing metadata (setup.py): finished with status 'done'\n",
      "INFO: pip is looking at multiple versions of yolov3 to determine which version is compatible with other requirements. This could take a while.\n",
      "Collecting yolov3\n",
      "  Using cached yolov3-1.6-py3-none-any.whl (1.5 kB)\n",
      "  Using cached yolov3-1.5-py3-none-any.whl (1.5 kB)\n",
      "  Using cached yolov3-1.4-py3-none-any.whl (1.5 kB)\n",
      "  Using cached yolov3-1.3-py3-none-any.whl (1.5 kB)\n",
      "  Using cached yolov3-1.2-py3-none-any.whl (1.5 kB)\n",
      "  Using cached yolov3-1.1.0-py3-none-any.whl (1.5 kB)\n",
      "  Using cached yolov3-1.0-py3-none-any.whl (1.5 kB)\n",
      "INFO: pip is still looking at multiple versions of yolov3 to determine which version is compatible with other requirements. This could take a while.\n",
      "\n",
      "The conflict is caused by:\n",
      "    yolov3 1.7 depends on tensorflow==1.14.0\n",
      "    yolov3 1.6 depends on tensorflow==1.9.0\n",
      "    yolov3 1.5 depends on tensorflow==1.9.0\n",
      "    yolov3 1.4 depends on tensorflow==1.9.0\n",
      "    yolov3 1.3 depends on Tensorflow==1.13.0\n",
      "    yolov3 1.2 depends on Tensorflow==1.9.0\n",
      "    yolov3 1.1.0 depends on Tensorflow==1.9.0\n",
      "    yolov3 1.0 depends on Tensorflow-gpu==1.5.0\n",
      "\n",
      "To fix this you could try to:\n",
      "1. loosen the range of package versions you've specified\n",
      "2. remove package versions to allow pip attempt to solve the dependency conflict\n",
      "\n",
      "Note: you may need to restart the kernel to use updated packages.\n"
     ]
    },
    {
     "name": "stderr",
     "output_type": "stream",
     "text": [
      "WARNING: Ignoring invalid distribution -rotobuf (c:\\users\\keerthi krishana\\.conda\\envs\\tf\\lib\\site-packages)\n",
      "ERROR: Cannot install yolov3==1.0, yolov3==1.1.0, yolov3==1.2, yolov3==1.3, yolov3==1.4, yolov3==1.5, yolov3==1.6 and yolov3==1.7 because these package versions have conflicting dependencies.\n",
      "ERROR: ResolutionImpossible: for help visit https://pip.pypa.io/en/latest/topics/dependency-resolution/#dealing-with-dependency-conflicts\n"
     ]
    }
   ],
   "source": [
    "pip install yolov3\n"
   ]
  },
  {
   "cell_type": "markdown",
   "id": "8e043e23",
   "metadata": {},
   "source": [
    "YOLO MODEL BUILDING:"
   ]
  },
  {
   "cell_type": "code",
   "execution_count": 5,
   "id": "cfcc304f",
   "metadata": {},
   "outputs": [
    {
     "ename": "error",
     "evalue": "OpenCV(4.7.0) D:\\a\\opencv-python\\opencv-python\\opencv\\modules\\dnn\\src\\darknet\\darknet_importer.cpp:210: error: (-212:Parsing error) Failed to open NetParameter file: yolov3.cfg in function 'cv::dnn::dnn4_v20221220::readNetFromDarknet'\n",
     "output_type": "error",
     "traceback": [
      "\u001b[1;31m---------------------------------------------------------------------------\u001b[0m",
      "\u001b[1;31merror\u001b[0m                                     Traceback (most recent call last)",
      "Cell \u001b[1;32mIn[5], line 6\u001b[0m\n\u001b[0;32m      3\u001b[0m \u001b[38;5;28;01mimport\u001b[39;00m \u001b[38;5;21;01mnumpy\u001b[39;00m \u001b[38;5;28;01mas\u001b[39;00m \u001b[38;5;21;01mnp\u001b[39;00m\n\u001b[0;32m      5\u001b[0m \u001b[38;5;66;03m# Load pre-trained YOLO model\u001b[39;00m\n\u001b[1;32m----> 6\u001b[0m net \u001b[38;5;241m=\u001b[39m \u001b[43mcv2\u001b[49m\u001b[38;5;241;43m.\u001b[39;49m\u001b[43mdnn\u001b[49m\u001b[38;5;241;43m.\u001b[39;49m\u001b[43mreadNet\u001b[49m\u001b[43m(\u001b[49m\u001b[38;5;124;43m\"\u001b[39;49m\u001b[38;5;124;43myolov3.weights\u001b[39;49m\u001b[38;5;124;43m\"\u001b[39;49m\u001b[43m,\u001b[49m\u001b[43m \u001b[49m\u001b[38;5;124;43m\"\u001b[39;49m\u001b[38;5;124;43myolov3.cfg\u001b[39;49m\u001b[38;5;124;43m\"\u001b[39;49m\u001b[43m)\u001b[49m\n\u001b[0;32m      8\u001b[0m \u001b[38;5;66;03m# Define classes for object detection\u001b[39;00m\n\u001b[0;32m      9\u001b[0m classes \u001b[38;5;241m=\u001b[39m []\n",
      "\u001b[1;31merror\u001b[0m: OpenCV(4.7.0) D:\\a\\opencv-python\\opencv-python\\opencv\\modules\\dnn\\src\\darknet\\darknet_importer.cpp:210: error: (-212:Parsing error) Failed to open NetParameter file: yolov3.cfg in function 'cv::dnn::dnn4_v20221220::readNetFromDarknet'\n"
     ]
    }
   ],
   "source": [
    "# Import necessary libraries\n",
    "import cv2\n",
    "import numpy as np\n",
    "\n",
    "# Load pre-trained YOLO model\n",
    "net = cv2.dnn.readNet(\"yolov3.weights\", \"yolov3.cfg\")\n",
    "\n",
    "# Define classes for object detection\n",
    "classes = []\n",
    "with open(\"coco.names\", \"r\") as f:\n",
    "    classes = [line.strip() for line in f.readlines()]\n",
    "\n",
    "# Set input image size and scale\n",
    "input_size = 416\n",
    "scale = 0.00392\n",
    "\n",
    "# Load image and prepare it for inference\n",
    "image = cv2.imread(\"Sitting3.jpg\")\n",
    "blob = cv2.dnn.blobFromImage(image, scale, (input_size, input_size), (0, 0, 0), True, crop=False)\n",
    "net.setInput(blob)\n",
    "\n",
    "# Perform forward pass and get output layers\n",
    "outs = net.forward(net.getUnconnectedOutLayersNames())\n",
    "\n",
    "# Process output layers to get detected objects\n",
    "class_ids = []\n",
    "confidences = []\n",
    "boxes = []\n",
    "for out in outs:\n",
    "    for detection in out:\n",
    "        scores = detection[5:]\n",
    "        class_id = np.argmax(scores)\n",
    "        confidence = scores[class_id]\n",
    "        if confidence > 0.5 and class_id == 0:  # Assuming class_id 0 represents 'person'\n",
    "            # Get bounding box coordinates\n",
    "            center_x = int(detection[0] * image.shape[1])\n",
    "            center_y = int(detection[1] * image.shape[0])\n",
    "            width = int(detection[2] * image.shape[1])\n",
    "            height = int(detection[3] * image.shape[0])\n",
    "            left = int(center_x - width / 2)\n",
    "            top = int(center_y - height / 2)\n",
    "            \n",
    "            # Save detected person's information\n",
    "            class_ids.append(class_id)\n",
    "            confidences.append(float(confidence))\n",
    "            boxes.append([left, top, width, height])\n",
    "\n",
    "# Apply non-max suppression to remove overlapping bounding boxes\n",
    "indices = cv2.dnn.NMSBoxes(boxes, confidences, 0.5, 0.4)\n",
    "\n",
    "# Draw bounding boxes and labels on the image\n",
    "for i in indices:\n",
    "    i = i[0]\n",
    "    box = boxes[i]\n",
    "    left, top, width, height = box[0], box[1], box[2], box[3]\n",
    "    cv2.rectangle(image, (left, top), (left + width, top + height), (0, 255, 0), 2)\n",
    "    cv2.putText(image, \"Person\", (left, top - 10), cv2.FONT_HERSHEY_SIMPLEX, 0.5, (0, 255, 0), 2)\n",
    "\n",
    "# Display the resulting image\n",
    "cv2.imshow(\"Output Image\", image)\n",
    "cv2.waitKey(0)\n",
    "cv2.destroyAllWindows()\n"
   ]
  },
  {
   "cell_type": "code",
   "execution_count": null,
   "id": "feb345ef",
   "metadata": {},
   "outputs": [],
   "source": []
  }
 ],
 "metadata": {
  "kernelspec": {
   "display_name": "Python 3 (ipykernel)",
   "language": "python",
   "name": "python3"
  },
  "language_info": {
   "codemirror_mode": {
    "name": "ipython",
    "version": 3
   },
   "file_extension": ".py",
   "mimetype": "text/x-python",
   "name": "python",
   "nbconvert_exporter": "python",
   "pygments_lexer": "ipython3",
   "version": "3.10.11"
  }
 },
 "nbformat": 4,
 "nbformat_minor": 5
}
